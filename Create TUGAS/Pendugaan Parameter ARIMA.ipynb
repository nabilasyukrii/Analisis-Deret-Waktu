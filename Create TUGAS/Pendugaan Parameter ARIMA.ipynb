{
  "nbformat": 4,
  "nbformat_minor": 0,
  "metadata": {
    "colab": {
      "provenance": []
    },
    "kernelspec": {
      "name": "python3",
      "display_name": "Python 3"
    },
    "language_info": {
      "name": "python"
    }
  },
  "cells": [
    {
      "cell_type": "markdown",
      "source": [
        "##**Tugas MInggu 8 Kelompok 2**\n",
        "___\n",
        "\n",
        "Anggota Kelompok:\n",
        "- Windi Pangesti    (M0501241022)\n",
        "- Nabila Syukri     (M0501241086)\n",
        "____"
      ],
      "metadata": {
        "id": "PuzUWr9CeKbF"
      }
    },
    {
      "cell_type": "markdown",
      "source": [
        "Soal:\n",
        "\n",
        "\n",
        "1.  Buatlah simulasi deret waktu (parameter yang digunakan bebas, tetapi berbeda dengan contoh yag sudah digunakan di atas) menggunakan **seed 2508**) Lakukan pendugaan parameter menggunakan metode Kuadrat Terkecil dan Kemungkinan Maksimum\n",
        "\n",
        " **Kelompok 2: ARIMA (2,0,1) dan ARIMA (1,1,1)**\n",
        "\n",
        "2.  Ulangi langkah no.1 sebanyak 30 ulangan. Hitunglah bias dan ragam dari penduga parameter menggunakan metode Kuadrat Terkecil dan Kemungkinan Maksimum yang diperoleh dari 30 ulangan tersebut. Dan buatlah boxplot untuk memvisualisasikan bias dan ragam tersebut.\n",
        " Interpretasikan boxpot yang diperoleh\n",
        "\n"
      ],
      "metadata": {
        "id": "nfP2W4FEeckQ"
      }
    },
    {
      "cell_type": "code",
      "source": [
        "import numpy as np\n",
        "from statsmodels.tsa.arima_process import ArmaProcess\n",
        "from statsmodels.tsa.arima.model import ARIMA"
      ],
      "metadata": {
        "id": "xKLG1SbWfQAx"
      },
      "execution_count": 122,
      "outputs": []
    },
    {
      "cell_type": "code",
      "source": [
        "import warnings\n",
        "warnings.filterwarnings(\"ignore\")\n",
        "#Jalankan syntax ini cukup satu kali, jangan berulang\n",
        "#%load_ext rpy2.ipython"
      ],
      "metadata": {
        "id": "ZPUTd4zMfz9u"
      },
      "execution_count": 123,
      "outputs": []
    },
    {
      "cell_type": "code",
      "source": [
        "!pip install rpy2"
      ],
      "metadata": {
        "colab": {
          "base_uri": "https://localhost:8080/"
        },
        "id": "q2Y2qEsRf472",
        "outputId": "2c0ced9f-4aff-445c-e364-31c39794f966"
      },
      "execution_count": 124,
      "outputs": [
        {
          "output_type": "stream",
          "name": "stdout",
          "text": [
            "Requirement already satisfied: rpy2 in /usr/local/lib/python3.11/dist-packages (3.5.17)\n",
            "Requirement already satisfied: cffi>=1.15.1 in /usr/local/lib/python3.11/dist-packages (from rpy2) (1.17.1)\n",
            "Requirement already satisfied: jinja2 in /usr/local/lib/python3.11/dist-packages (from rpy2) (3.1.6)\n",
            "Requirement already satisfied: tzlocal in /usr/local/lib/python3.11/dist-packages (from rpy2) (5.3.1)\n",
            "Requirement already satisfied: pycparser in /usr/local/lib/python3.11/dist-packages (from cffi>=1.15.1->rpy2) (2.22)\n",
            "Requirement already satisfied: MarkupSafe>=2.0 in /usr/local/lib/python3.11/dist-packages (from jinja2->rpy2) (3.0.2)\n"
          ]
        }
      ]
    },
    {
      "cell_type": "code",
      "source": [
        "%%R\n",
        "install.packages('TSA')"
      ],
      "metadata": {
        "colab": {
          "base_uri": "https://localhost:8080/",
          "height": 198
        },
        "id": "_kOdc_fOgtFs",
        "outputId": "0e135229-d448-4a78-d1c3-b3deafa2270c"
      },
      "execution_count": 125,
      "outputs": [
        {
          "output_type": "display_data",
          "data": {
            "text/plain": [
              "Installing package into ‘/usr/local/lib/R/site-library’\n",
              "(as ‘lib’ is unspecified)\n",
              "trying URL 'https://cran.rstudio.com/src/contrib/TSA_1.3.1.tar.gz'\n",
              "Content type 'application/x-gzip' length 207505 bytes (202 KB)\n",
              "==================================================\n",
              "downloaded 202 KB\n",
              "\n",
              "\n",
              "The downloaded source packages are in\n",
              "\t‘/tmp/RtmpwFHEbb/downloaded_packages’\n"
            ]
          },
          "metadata": {}
        }
      ]
    },
    {
      "cell_type": "markdown",
      "source": [
        "# ARIMA (2,0,1)"
      ],
      "metadata": {
        "id": "m_Z4SUcY12QO"
      }
    },
    {
      "cell_type": "code",
      "execution_count": 126,
      "metadata": {
        "id": "7F55eqzbeJXC"
      },
      "outputs": [],
      "source": [
        "%%R\n",
        " set.seed(2508)\n",
        " arma21=arima.sim(list(order = c(2,0,1), ar = c(1.2,-0.70), ma=0.3), n = 100)"
      ]
    },
    {
      "cell_type": "markdown",
      "source": [
        "## Metode Kuadrat Terkecil"
      ],
      "metadata": {
        "id": "8d2MTNyW15b3"
      }
    },
    {
      "cell_type": "code",
      "source": [
        "%%R\n",
        "model21=(arima(arma21, order=c(2,0,1),method='CSS'))\n",
        "model21"
      ],
      "metadata": {
        "id": "l24j96hAgXOP",
        "colab": {
          "base_uri": "https://localhost:8080/"
        },
        "outputId": "035545a4-e7f2-4b0c-cffb-ac19960644d2"
      },
      "execution_count": 127,
      "outputs": [
        {
          "output_type": "stream",
          "name": "stdout",
          "text": [
            "\n",
            "Call:\n",
            "arima(x = arma21, order = c(2, 0, 1), method = \"CSS\")\n",
            "\n",
            "Coefficients:\n",
            "         ar1      ar2     ma1  intercept\n",
            "      1.1286  -0.6317  0.3995     0.5068\n",
            "s.e.  0.0951   0.0891  0.1179     0.3008\n",
            "\n",
            "sigma^2 estimated as 1.178:  part log likelihood = -150.07\n"
          ]
        }
      ]
    },
    {
      "cell_type": "markdown",
      "source": [
        "Data simulasi ARMA (2,0,1), nilai parameter aslinya untuk AR adalah 1.2 dan -0.7 dengan nilai penduga kuadrat terkecilnya adalah 1.1286 dan -0.6317, untuk MA nilai parameter aslinya 0.3 sedangkan untuk hasil penduga kuadrat terkecilnya bernilai 0.3995"
      ],
      "metadata": {
        "id": "4vOVqitPy9xA"
      }
    },
    {
      "cell_type": "code",
      "source": [
        "%%R\n",
        "set.seed(2508)\n",
        "\n",
        "# Parameter asli\n",
        "true_ar <- c(1.2, -0.7)\n",
        "true_ma <- 0.3\n",
        "\n",
        "# Inisialisasi matriks hasil estimasi\n",
        "estimasi <- matrix(NA, nrow = 30, ncol = 3)\n",
        "colnames(estimasi) <- c(\"AR1\", \"AR2\", \"MA1\")\n",
        "\n",
        "# Simulasi dan estimasi sebanyak 30 kali\n",
        "for (i in 1:30) {\n",
        "  arma21 <- arima.sim(list(order = c(2,0,1), ar = true_ar, ma = true_ma), n = 100)\n",
        "  model21 <- arima(arma21, order = c(2,0,1), method = \"CSS\")\n",
        "  estimasi[i, ] <- model21$coef[c(\"ar1\", \"ar2\", \"ma1\")]\n",
        "}\n",
        "\n",
        "# Konversi ke data.frame\n",
        "estimasi_df <- as.data.frame(estimasi)\n",
        "\n",
        "#  rata-rata estimasi\n",
        "rata2_estimasi <- colMeans(estimasi_df)\n",
        "\n",
        "#  bias = rata2 estimasi - nilai sebenarnya\n",
        "bias <- rata2_estimasi - c(true_ar, true_ma)\n",
        "\n",
        "#  ragam (variansi) dari estimasi\n",
        "ragam <- apply(estimasi_df, 2, var)\n",
        "\n",
        "\n",
        "print(\"Bias:\")\n",
        "print(bias)\n",
        "\n",
        "print(\"Ragam:\")\n",
        "print(ragam)\n"
      ],
      "metadata": {
        "colab": {
          "base_uri": "https://localhost:8080/"
        },
        "id": "nGtSNejl1PZA",
        "outputId": "2c8eda9a-9ebe-4348-f80b-072ab753da45"
      },
      "execution_count": 128,
      "outputs": [
        {
          "output_type": "stream",
          "name": "stdout",
          "text": [
            "[1] \"Bias:\"\n",
            "         AR1          AR2          MA1 \n",
            "-0.007190466  0.009546710  0.025313356 \n",
            "[1] \"Ragam:\"\n",
            "        AR1         AR2         MA1 \n",
            "0.006621670 0.004951369 0.013484677 \n"
          ]
        }
      ]
    },
    {
      "cell_type": "markdown",
      "source": [
        "## Metode Kemungkinan Maksimum"
      ],
      "metadata": {
        "id": "ewBQzYIi1_3t"
      }
    },
    {
      "cell_type": "code",
      "source": [
        "%%R\n",
        "set.seed(2508)\n",
        "print(arima(arma21, order=c(2,0,1),method='ML'))"
      ],
      "metadata": {
        "colab": {
          "base_uri": "https://localhost:8080/"
        },
        "id": "G-apEUAu2D8W",
        "outputId": "37cea85c-fd1c-4a9d-da36-32150fdcda98"
      },
      "execution_count": 129,
      "outputs": [
        {
          "output_type": "stream",
          "name": "stdout",
          "text": [
            "\n",
            "Call:\n",
            "arima(x = arma21, order = c(2, 0, 1), method = \"ML\")\n",
            "\n",
            "Coefficients:\n",
            "         ar1      ar2     ma1  intercept\n",
            "      1.3029  -0.7604  0.3294    -0.0401\n",
            "s.e.  0.0764   0.0754  0.0982     0.2746\n",
            "\n",
            "sigma^2 estimated as 0.8859:  log likelihood = -137.57,  aic = 285.14\n"
          ]
        }
      ]
    },
    {
      "cell_type": "markdown",
      "source": [
        "deret ARIMA (2,0,1) yang dibangkitkan memiliki nilai parmeter asli phi1 = 1.2 dan phi2 = -0.7 dengan hasil penduga parameter metode kemungkinan maksimum adalah 1.3029 dan -0.7604 kemudian theta = 0.3 dengan penduga nya 0.3294"
      ],
      "metadata": {
        "id": "SF9jvzbg2b_h"
      }
    },
    {
      "cell_type": "code",
      "source": [
        "%%R\n",
        "set.seed(2508)\n",
        "\n",
        "# Parameter sebenarnya\n",
        "true_ar <- c(1.2, -0.7)\n",
        "true_ma <- 0.3\n",
        "\n",
        "# Inisialisasi hasil\n",
        "estimasi_ml <- matrix(NA, nrow = 30, ncol = 3)\n",
        "colnames(estimasi_ml) <- c(\"AR1\", \"AR2\", \"MA1\")\n",
        "\n",
        "# Simulasi 30 kali dengan metode Maximum Likelihood\n",
        "for (i in 1:30) {\n",
        "  sim_data <- arima.sim(list(order = c(2,0,1), ar = true_ar, ma = true_ma), n = 100)\n",
        "  model_ml <- arima(sim_data, order = c(2,0,1), method = \"ML\")\n",
        "  estimasi_ml[i, ] <- model_ml$coef[c(\"ar1\", \"ar2\", \"ma1\")]\n",
        "}\n",
        "\n",
        "# Konversi ke data frame\n",
        "estimasi_ml_df <- as.data.frame(estimasi_ml)\n",
        "\n",
        "# Hitung rata-rata, bias, dan ragam\n",
        "rata2_ml <- colMeans(estimasi_ml_df)\n",
        "bias_ml <- rata2_ml - c(true_ar, true_ma)\n",
        "ragam_ml <- apply(estimasi_ml_df, 2, var)\n",
        "\n",
        "# Tampilkan hasil\n",
        "\n",
        "print(\"Bias (ML):\")\n",
        "print(bias_ml)\n",
        "\n",
        "print(\"Ragam (ML):\")\n",
        "print(ragam_ml)\n"
      ],
      "metadata": {
        "colab": {
          "base_uri": "https://localhost:8080/",
          "height": 198
        },
        "id": "jaCRRfO-3JmP",
        "outputId": "62d73837-6c6f-4fe0-8cd6-053cbd313665"
      },
      "execution_count": 130,
      "outputs": [
        {
          "output_type": "stream",
          "name": "stdout",
          "text": [
            "[1] \"Bias (ML):\"\n",
            "        AR1         AR2         MA1 \n",
            "-0.01029951  0.01320347  0.03186834 \n",
            "[1] \"Ragam (ML):\"\n",
            "        AR1         AR2         MA1 \n",
            "0.007340623 0.005039793 0.014910049 \n"
          ]
        },
        {
          "output_type": "display_data",
          "data": {
            "text/plain": [
              "In addition: Warning messages:\n",
              "1: In arima(sim_data, order = c(2, 0, 1), method = \"ML\") :\n",
              "  possible convergence problem: optim gave code = 1\n",
              "2: In log(s2) : NaNs produced\n"
            ]
          },
          "metadata": {}
        }
      ]
    },
    {
      "cell_type": "code",
      "source": [
        "%%R\n",
        "library(ggplot2)\n",
        "library(tidyr)\n",
        "library(dplyr)\n",
        "\n",
        "# Pastikan kolomnya sesuai urutan AR1, AR2, MA1\n",
        "colnames(estimasi_df) <- c(\"AR1\", \"AR2\", \"MA1\")\n",
        "colnames(estimasi_ml_df) <- c(\"AR1\", \"AR2\", \"MA1\")\n",
        "\n",
        "# Tambahkan label metode\n",
        "estimasi_arima21_css_df <- as.data.frame(estimasi_df)\n",
        "estimasi_arima21_css_df$Method <- \"CSS\"\n",
        "\n",
        "estimasi_arima21_ml_df <- as.data.frame(estimasi_ml_df)\n",
        "estimasi_arima21_ml_df$Method <- \"ML\"\n",
        "\n",
        "# Gabung dan transform jadi long format\n",
        "est_all <- bind_rows(estimasi_arima21_css_df, estimasi_arima21_ml_df) %>%\n",
        "  pivot_longer(cols = c(\"AR1\", \"AR2\", \"MA1\"),\n",
        "               names_to = \"Parameter\",\n",
        "               values_to = \"Estimate\") %>%\n",
        "  mutate(True = case_when(\n",
        "    Parameter == \"AR1\" ~ 1.2,\n",
        "    Parameter == \"AR2\" ~ -0.7,\n",
        "    Parameter == \"MA1\" ~ 0.3\n",
        "  ),\n",
        "  Error = Estimate - True)\n",
        "\n",
        "# Plot boxplot\n",
        "ggplot(est_all, aes(x = Method, y = Error, fill = Method)) +\n",
        "  geom_hline(yintercept = 0, linetype = \"dashed\", color = \"black\") +\n",
        "  geom_boxplot(alpha = 0.7, width = 0.6, outlier.size = 1) +\n",
        "  facet_wrap(~ Parameter) +\n",
        "  labs(\n",
        "    title    = \"Distribusi Error Estimator ARIMA(2,0,1)\",\n",
        "    x        = \"Metode\",\n",
        "    y        = \"Error\"\n",
        "  ) +\n",
        "  theme_minimal(base_size = 14) +\n",
        "  scale_fill_brewer(palette = \"Set1\") +\n",
        "  theme(legend.position = \"none\")\n"
      ],
      "metadata": {
        "colab": {
          "base_uri": "https://localhost:8080/",
          "height": 497
        },
        "id": "HmuxKJj28Hgx",
        "outputId": "084fcedf-a26d-4e91-9278-81cf8863cdae"
      },
      "execution_count": 131,
      "outputs": [
        {
          "output_type": "display_data",
          "data": {
            "image/png": "[encoded data removed]",
            "text/plain": [
              "<IPython.core.display.Image object>"
            ]
          },
          "metadata": {}
        }
      ]
    },
    {
      "cell_type": "markdown",
      "source": [
        "gambar di atas merupakan visualisasi boxplot perbandingan metode Kuadrat Terkecil (CSS) dan Kemungkinan Maksimum (ML) terhadap  bias dan ragam pendugaan.\n",
        "\n",
        "- Parameter AR 1\n",
        "Median error dari kedua metode mendekati 0, menunjukkan bahwa estimasi keduanya tidak bias atau memilikibias yang sangat kecil terhadap parameter AR 1.  \n",
        "Untuk varians metode ML lebih besar dibanding CSS karena wishkernya lebih panjang dan box lebih lebar ini menunjukkan bahwa metode ML menghasilkan estimasi AR 1 yang lebih bervariasi dibandingkan metode CSS.\n",
        "\n",
        "- Parameter AR 2\n",
        "Median error dari metode CSS sangat mendekati 0 sehingga bias estimasi lebih kecil dibandingkan ML.\n",
        "Untuk varians, metode ML lebih luas untuk AR 2 sehingga lebih bervariasi dalam menduga parameter AR 2\n",
        "\n",
        "- Parameter MA 1\n",
        "Median dari kedua metode baik CSS maupun ML mendekati 0 dan di atas 0 artinya keduanya cenderung overestimate dari nilai sebenarnya dari MA 1.\n",
        "Untuk varians, kedua metode memiliki kotak yang lebar sehingga parameter MA diestimasi tidak begitu konsisten pada kedua metode karena ragam yang besar.\n",
        "\n",
        "hal ini sejalan dengan hasil perhitungan yang menunjukkan untuk parameter MA 1 memiliki ragam yang lebih besar untuk kedua metode\n",
        "\n",
        "- Kesimpulan : CSS cenderung lebih stabil dalam memberikan estimasi (ragam kecil) terutama pada parameter AR"
      ],
      "metadata": {
        "id": "YxLy2TNrLmEZ"
      }
    },
    {
      "cell_type": "markdown",
      "source": [
        "# ARIMA (1,1,1)"
      ],
      "metadata": {
        "id": "BaCkGbnQ30r4"
      }
    },
    {
      "cell_type": "code",
      "source": [
        "%%R\n",
        " set.seed(2508)\n",
        " arima111 <- arima.sim(list(order = c(1,1,1), ar = 0.6, ma = 0.3), n = 100)"
      ],
      "metadata": {
        "id": "Ql1gRod34B2F"
      },
      "execution_count": 132,
      "outputs": []
    },
    {
      "cell_type": "markdown",
      "source": [
        "## Metode Kuadrat Terkecil"
      ],
      "metadata": {
        "id": "K_b4fH9o35r9"
      }
    },
    {
      "cell_type": "code",
      "source": [
        "%%R\n",
        "print(arima(arima111, order=c(1,1,1),method='CSS'))"
      ],
      "metadata": {
        "colab": {
          "base_uri": "https://localhost:8080/"
        },
        "id": "ptV9biQ05QS4",
        "outputId": "94b9e9aa-f5f0-454e-8074-b097575bcd69"
      },
      "execution_count": 133,
      "outputs": [
        {
          "output_type": "stream",
          "name": "stdout",
          "text": [
            "\n",
            "Call:\n",
            "arima(x = arima111, order = c(1, 1, 1), method = \"CSS\")\n",
            "\n",
            "Coefficients:\n",
            "         ar1     ma1\n",
            "      0.5951  0.4747\n",
            "s.e.  0.0995  0.1176\n",
            "\n",
            "sigma^2 estimated as 1.271:  part log likelihood = -153.88\n"
          ]
        }
      ]
    },
    {
      "cell_type": "markdown",
      "source": [
        "parameter asli phi = 0.6 dan theta = 0.3 sedangkan hasil penduga parameter MKT untuk phi = 0.5951 dan theta adalah 0.4747"
      ],
      "metadata": {
        "id": "SVb4CfUS5ZxD"
      }
    },
    {
      "cell_type": "code",
      "source": [
        "%%R\n",
        "set.seed(2508)\n",
        "\n",
        "# Jumlah simulasi\n",
        "n_simulasi <- 30\n",
        "\n",
        "# Simulasi dan estimasi parameter ARIMA(1,1,1) sebanyak 30 kali\n",
        "estimasi_arima_111 <- matrix(NA, nrow = n_simulasi, ncol = 2)\n",
        "colnames(estimasi_arima_111) <- c(\"AR1\", \"MA1\")\n",
        "\n",
        "# Nilai sebenarnya\n",
        "true_ar <- 0.6\n",
        "true_ma <- 0.3\n",
        "\n",
        "# Melakukan 30 simulasi dan estimasi\n",
        "for (i in 1:n_simulasi) {\n",
        "  arima111 <- arima.sim(list(order = c(1,1,1), ar = true_ar, ma = true_ma), n = 100)\n",
        "  model111_css <- arima(arima111, order = c(1,1,1), method = \"CSS\")\n",
        "  estimasi_arima_111[i, ] <- model111_css$coef[c(\"ar1\", \"ma1\")]\n",
        "}\n",
        "\n",
        "# Menghitung bias\n",
        "bias_arima_111 <- colMeans(estimasi_arima_111) - c(true_ar, true_ma)\n",
        "\n",
        "# Menghitung ragam (variansi) dari estimasi AR1 dan MA1\n",
        "ragam_arima_111 <- apply(estimasi_arima_111, 2, var)\n",
        "\n",
        "# Menampilkan hasil bias dan ragam\n",
        "print(\"Bias ARIMA(1,1,1) CSS:\")\n",
        "print(bias_arima_111)\n",
        "\n",
        "print(\"Ragam ARIMA(1,1,1) CSS:\")\n",
        "print(ragam_arima_111)\n"
      ],
      "metadata": {
        "colab": {
          "base_uri": "https://localhost:8080/"
        },
        "id": "PMgVRbn55pjD",
        "outputId": "c4517e10-63bd-402d-a44b-5c5c8fe15a22"
      },
      "execution_count": 134,
      "outputs": [
        {
          "output_type": "stream",
          "name": "stdout",
          "text": [
            "[1] \"Bias ARIMA(1,1,1) CSS:\"\n",
            "        AR1         MA1 \n",
            "-0.02134334  0.05260804 \n",
            "[1] \"Ragam ARIMA(1,1,1) CSS:\"\n",
            "       AR1        MA1 \n",
            "0.01582747 0.01704061 \n"
          ]
        }
      ]
    },
    {
      "cell_type": "markdown",
      "source": [
        "## Metode Kemungkinan Maksimum"
      ],
      "metadata": {
        "id": "aQ3JysVZHCBn"
      }
    },
    {
      "cell_type": "code",
      "source": [
        "%%R\n",
        "set.seed(2508)\n",
        "print(arima(arima111, order=c(1,1,1),method='ML'))"
      ],
      "metadata": {
        "colab": {
          "base_uri": "https://localhost:8080/"
        },
        "id": "H_JmsTyfHEgu",
        "outputId": "186d4d7f-010a-4a32-c433-1e12a6ed41cb"
      },
      "execution_count": 135,
      "outputs": [
        {
          "output_type": "stream",
          "name": "stdout",
          "text": [
            "\n",
            "Call:\n",
            "arima(x = arima111, order = c(1, 1, 1), method = \"ML\")\n",
            "\n",
            "Coefficients:\n",
            "         ar1     ma1\n",
            "      0.6082  0.3402\n",
            "s.e.  0.0964  0.1098\n",
            "\n",
            "sigma^2 estimated as 0.9708:  log likelihood = -140.9,  aic = 287.79\n"
          ]
        }
      ]
    },
    {
      "cell_type": "markdown",
      "source": [
        "parameter asli phi = 0.6 dan theta = 0.3 sedangkan hasil penduga parameter ML untuk phi 0.6082 dan theta adalah 0.3402"
      ],
      "metadata": {
        "id": "wiv9OJXgHepZ"
      }
    },
    {
      "cell_type": "code",
      "source": [
        "%%R\n",
        "set.seed(2508)\n",
        "\n",
        "# Jumlah simulasi\n",
        "n_simulasi <- 30\n",
        "\n",
        "# Simpan hasil estimasi\n",
        "estimasi_arima_111_ml <- matrix(NA, nrow = n_simulasi, ncol = 2)\n",
        "colnames(estimasi_arima_111_ml) <- c(\"AR1\", \"MA1\")\n",
        "\n",
        "# Nilai sebenarnya\n",
        "true_ar <- 0.6\n",
        "true_ma <- 0.3\n",
        "\n",
        "# Simulasi 30 kali\n",
        "for (i in 1:n_simulasi) {\n",
        "  arima111 <- arima.sim(list(order = c(1,1,1), ar = true_ar, ma = true_ma), n = 100)\n",
        "  model111_ml <- arima(arima111, order = c(1,1,1), method = \"ML\")\n",
        "\n",
        "  estimasi_arima_111_ml[i, ] <- model111_ml$coef[c(\"ar1\", \"ma1\")]\n",
        "}\n",
        "\n",
        "# Menghitung bias\n",
        "bias_ml <- colMeans(estimasi_arima_111_ml) - c(true_ar, true_ma)\n",
        "\n",
        "# Menghitung ragam (variansi estimasi)\n",
        "ragam_ml <- apply(estimasi_arima_111_ml, 2, var)\n",
        "\n",
        "# Tampilkan hasil\n",
        "print(\"Bias ARIMA(1,1,1) ML:\")\n",
        "print(bias_ml)\n",
        "\n",
        "print(\"Ragam ARIMA(1,1,1) ML:\")\n",
        "print(ragam_ml)\n"
      ],
      "metadata": {
        "colab": {
          "base_uri": "https://localhost:8080/"
        },
        "id": "C_OOeSyuH_vm",
        "outputId": "52c47d3d-bcf6-45c2-ef96-766f20861120"
      },
      "execution_count": 136,
      "outputs": [
        {
          "output_type": "stream",
          "name": "stdout",
          "text": [
            "[1] \"Bias ARIMA(1,1,1) ML:\"\n",
            "        AR1         MA1 \n",
            "-0.01615041  0.04849841 \n",
            "[1] \"Ragam ARIMA(1,1,1) ML:\"\n",
            "       AR1        MA1 \n",
            "0.01353196 0.01697645 \n"
          ]
        }
      ]
    },
    {
      "cell_type": "code",
      "source": [
        "%%R\n",
        "library(ggplot2)\n",
        "library(tidyr)\n",
        "library(dplyr)\n",
        "\n",
        "estimasi_css_df <- as.data.frame(estimasi_arima_111)\n",
        "estimasi_css_df$Method <- \"CSS\"\n",
        "\n",
        "estimasi_ml_df  <- as.data.frame(estimasi_arima_111_ml)\n",
        "estimasi_ml_df$Method  <- \"ML\"\n",
        "\n",
        "#gabungan\n",
        "est_all <- bind_rows(estimasi_css_df, estimasi_ml_df) %>%\n",
        "  pivot_longer(cols = c(\"AR1\",\"MA1\"),\n",
        "               names_to  = \"Parameter\",\n",
        "               values_to = \"Estimate\") %>%\n",
        "  mutate(True = if_else(Parameter==\"AR1\", 0.6, 0.3),\n",
        "         Error = Estimate - True)\n",
        "\n",
        "# plot\n",
        "ggplot(est_all, aes(x = Method, y = Error, fill = Method)) +\n",
        "  geom_hline(yintercept = 0, linetype = \"dashed\", color = \"black\") +\n",
        "  geom_boxplot(alpha = 0.7, width = 0.6, outlier.size = 1) +\n",
        "  facet_wrap(~ Parameter) +\n",
        "  labs(\n",
        "    title    = \"Distribusi Error Estimator ARIMA(1,1,1)\",\n",
        "    x        = \"Metode\",\n",
        "    y        = \"Error\"\n",
        "  ) +\n",
        "  theme_minimal(base_size = 14) +\n",
        "  scale_fill_brewer(palette = \"Set1\") +\n",
        "  theme(legend.position = \"none\")\n"
      ],
      "metadata": {
        "colab": {
          "base_uri": "https://localhost:8080/",
          "height": 497
        },
        "id": "cEpo_jW3Nvpq",
        "outputId": "1e8fc02f-e32c-4750-abdf-26b2825e1516"
      },
      "execution_count": 137,
      "outputs": [
        {
          "output_type": "display_data",
          "data": {
            "image/png": "[encoded data removed]",
            "text/plain": [
              "<IPython.core.display.Image object>"
            ]
          },
          "metadata": {}
        }
      ]
    },
    {
      "cell_type": "markdown",
      "source": [
        "Boxplot di atas merupakan perbandingan distribusi error parameter MKT dan ML untuk model ARIMA (1,1,1)\n",
        "- AR 1\n",
        "kedua metode memiliki median eror  sangat dekat garis putus-putus 0, artinya bias kecil untuk kedua metode tersebut.\n",
        "Untuk varians, metode ML sedikit lebih lebar sehingga ragam lebih besar untuk estimasi parameter AR 1 dibanding CSS\n",
        "\n",
        "- MA 1\n",
        "Median eror  kedua metode berada di atas 0 artinya kedua metode cenderung overestimate nilai sebenarnya untuk estimasi parameter MA 1. Untuk varians, ML dan CSS memiliki lebar kotak yang hampir sama, mengindikasikan konsistensi yng sebanding, namun ragamnya cukup besar yang menunjukkan bahwa penaan parameter MA 1 lebih bervariasi.\n",
        "\n",
        "- Kesimpulan\n",
        "Keda metode memiliki bias kecil dalam estimasi AR 1 tetapi ML sedikit lebih bervariasi"
      ],
      "metadata": {
        "id": "gMmEcu5eN00V"
      }
    }
  ]
}
